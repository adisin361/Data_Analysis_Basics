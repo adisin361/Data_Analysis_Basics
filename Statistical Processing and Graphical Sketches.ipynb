{
 "cells": [
  {
   "cell_type": "code",
   "execution_count": 1,
   "id": "687a8abe",
   "metadata": {},
   "outputs": [
    {
     "name": "stdout",
     "output_type": "stream",
     "text": [
      "Collecting matplotlib\n",
      "  Downloading https://files.pythonhosted.org/packages/c4/2c/5ee5ed65283710e6edadccdcad28e32c33d51f7501532beca674d704efc3/matplotlib-3.4.2-cp38-cp38-win_amd64.whl (7.1MB)\n",
      "Requirement already satisfied: python-dateutil>=2.7 in c:\\users\\kiit\\appdata\\local\\programs\\python\\python38\\lib\\site-packages (from matplotlib) (2.8.2)\n",
      "Collecting cycler>=0.10 (from matplotlib)\n",
      "  Using cached https://files.pythonhosted.org/packages/f7/d2/e07d3ebb2bd7af696440ce7e754c59dd546ffe1bbe732c8ab68b9c834e61/cycler-0.10.0-py2.py3-none-any.whl\n",
      "Requirement already satisfied: pyparsing>=2.2.1 in c:\\users\\kiit\\appdata\\local\\programs\\python\\python38\\lib\\site-packages (from matplotlib) (2.4.7)\n",
      "Collecting pillow>=6.2.0 (from matplotlib)\n",
      "  Downloading https://files.pythonhosted.org/packages/54/89/caa78b7d67c95124a06ec2c413f01b0611d6baddcdfb89672c20c7707c2f/Pillow-8.3.1-1-cp38-cp38-win_amd64.whl (3.2MB)\n",
      "Collecting kiwisolver>=1.0.1 (from matplotlib)\n",
      "  Downloading https://files.pythonhosted.org/packages/a8/be/9a8f1a59c94f99544366fd3680373ccd6cf6dcd504e02d504486e9f0943b/kiwisolver-1.3.1-cp38-cp38-win_amd64.whl (51kB)\n",
      "Requirement already satisfied: numpy>=1.16 in c:\\users\\kiit\\appdata\\local\\programs\\python\\python38\\lib\\site-packages (from matplotlib) (1.21.1)\n",
      "Requirement already satisfied: six>=1.5 in c:\\users\\kiit\\appdata\\local\\programs\\python\\python38\\lib\\site-packages (from python-dateutil>=2.7->matplotlib) (1.16.0)\n",
      "Installing collected packages: cycler, pillow, kiwisolver, matplotlib\n",
      "Successfully installed cycler-0.10.0 kiwisolver-1.3.1 matplotlib-3.4.2 pillow-8.3.1\n"
     ]
    },
    {
     "name": "stderr",
     "output_type": "stream",
     "text": [
      "WARNING: You are using pip version 19.2.3, however version 21.2.1 is available.\n",
      "You should consider upgrading via the 'python -m pip install --upgrade pip' command.\n"
     ]
    }
   ],
   "source": [
    "# install Matplotlib\n",
    "!pip install matplotlib"
   ]
  },
  {
   "cell_type": "code",
   "execution_count": 2,
   "id": "ea487951",
   "metadata": {},
   "outputs": [],
   "source": [
    "import numpy as np\n",
    "import matplotlib.pyplot as plt"
   ]
  },
  {
   "cell_type": "code",
   "execution_count": 3,
   "id": "c1de71f3",
   "metadata": {},
   "outputs": [
    {
     "name": "stdout",
     "output_type": "stream",
     "text": [
      "[0 1 2]\n",
      "[4 5 6 7]\n"
     ]
    }
   ],
   "source": [
    "# explain np.meshgrid() with !3*3 examples\n",
    "\n",
    "x = np.arange(3)\n",
    "y = np.arange(4, 8)\n",
    "\n",
    "print(x)\n",
    "print(y)"
   ]
  },
  {
   "cell_type": "code",
   "execution_count": 4,
   "id": "a496a390",
   "metadata": {},
   "outputs": [],
   "source": [
    "x2, y2 = np.meshgrid(x,y)"
   ]
  },
  {
   "cell_type": "code",
   "execution_count": 5,
   "id": "57d0a76b",
   "metadata": {},
   "outputs": [
    {
     "name": "stdout",
     "output_type": "stream",
     "text": [
      "[[0 1 2]\n",
      " [0 1 2]\n",
      " [0 1 2]\n",
      " [0 1 2]]\n"
     ]
    }
   ],
   "source": [
    "print(x2)"
   ]
  },
  {
   "cell_type": "code",
   "execution_count": 6,
   "id": "07f60fe6",
   "metadata": {},
   "outputs": [
    {
     "name": "stdout",
     "output_type": "stream",
     "text": [
      "[[4 4 4]\n",
      " [5 5 5]\n",
      " [6 6 6]\n",
      " [7 7 7]]\n"
     ]
    }
   ],
   "source": [
    "print(y2)"
   ]
  },
  {
   "cell_type": "code",
   "execution_count": 7,
   "id": "ecf80bf7",
   "metadata": {},
   "outputs": [
    {
     "name": "stdout",
     "output_type": "stream",
     "text": [
      "[[12 14 16]\n",
      " [15 17 19]\n",
      " [18 20 22]\n",
      " [21 23 25]]\n"
     ]
    }
   ],
   "source": [
    "z = 2*x2 + 3*y2\n",
    "print(z)"
   ]
  },
  {
   "cell_type": "code",
   "execution_count": 10,
   "id": "bd57a058",
   "metadata": {},
   "outputs": [
    {
     "data": {
      "text/plain": [
       "<matplotlib.colorbar.Colorbar at 0x21f0a1cf880>"
      ]
     },
     "execution_count": 10,
     "metadata": {},
     "output_type": "execute_result"
    },
    {
     "data": {
      "image/png": "[encoded data removed]",
      "text/plain": [
       "<Figure size 432x288 with 2 Axes>"
      ]
     },
     "metadata": {
      "needs_background": "light"
     },
     "output_type": "display_data"
    }
   ],
   "source": [
    "# plot a linear function heatmap\n",
    "plt.imshow(z)\n",
    "plt.title(\"Plot of 2x+y\")\n",
    "plt.colorbar()"
   ]
  },
  {
   "cell_type": "code",
   "execution_count": 11,
   "id": "0a166e73",
   "metadata": {},
   "outputs": [
    {
     "name": "stdout",
     "output_type": "stream",
     "text": [
      "[[ 0.34635638 -0.11334131 -1.06979046]\n",
      " [ 1.28366219  0.82396449 -0.13248465]\n",
      " [ 1.96017029  1.50047259  0.54402345]\n",
      " [ 1.75390225  1.29420456  0.33775542]]\n"
     ]
    }
   ],
   "source": [
    "# plot a cos function heatmap\n",
    "z2 = np.cos(x2)+np.cos(y2)\n",
    "print(z2)"
   ]
  },
  {
   "cell_type": "code",
   "execution_count": 15,
   "id": "4d66742d",
   "metadata": {},
   "outputs": [
    {
     "data": {
      "image/png": "[encoded data removed]",
      "text/plain": [
       "<Figure size 432x288 with 2 Axes>"
      ]
     },
     "metadata": {
      "needs_background": "light"
     },
     "output_type": "display_data"
    }
   ],
   "source": [
    "plt.imshow(z2)\n",
    "plt.title(\"Plot of cos(x2)+cos(y2)\")\n",
    "plt.colorbar()\n",
    "plt.savefig('cos plot.png') # saves the graph"
   ]
  },
  {
   "cell_type": "code",
   "execution_count": null,
   "id": "967eaf6f",
   "metadata": {},
   "outputs": [],
   "source": []
  }
 ],
 "metadata": {
  "kernelspec": {
   "display_name": "Python 3 (ipykernel)",
   "language": "python",
   "name": "python3"
  },
  "language_info": {
   "codemirror_mode": {
    "name": "ipython",
    "version": 3
   },
   "file_extension": ".py",
   "mimetype": "text/x-python",
   "name": "python",
   "nbconvert_exporter": "python",
   "pygments_lexer": "ipython3",
   "version": "3.8.2"
  }
 },
 "nbformat": 4,
 "nbformat_minor": 5
}
