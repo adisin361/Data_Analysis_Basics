{
 "cells": [
  {
   "cell_type": "code",
   "execution_count": 1,
   "id": "e369599f",
   "metadata": {},
   "outputs": [],
   "source": [
    "import numpy as np"
   ]
  },
  {
   "cell_type": "code",
   "execution_count": 2,
   "id": "a8ccc322",
   "metadata": {},
   "outputs": [],
   "source": [
    "arr = np.arange(10)"
   ]
  },
  {
   "cell_type": "code",
   "execution_count": 3,
   "id": "939c027c",
   "metadata": {},
   "outputs": [
    {
     "name": "stdout",
     "output_type": "stream",
     "text": [
      "[0 1 2 3 4 5 6 7 8 9]\n"
     ]
    }
   ],
   "source": [
    "print(arr)"
   ]
  },
  {
   "cell_type": "code",
   "execution_count": 4,
   "id": "15bd3809",
   "metadata": {},
   "outputs": [],
   "source": [
    "# why do we need to save arrays to hard drives?"
   ]
  },
  {
   "cell_type": "code",
   "execution_count": 5,
   "id": "d9555cd6",
   "metadata": {},
   "outputs": [],
   "source": [
    "# saving single array\n",
    "np.save('saved_array', arr) # saved with .npy extension"
   ]
  },
  {
   "cell_type": "code",
   "execution_count": 6,
   "id": "6fb15374",
   "metadata": {},
   "outputs": [
    {
     "name": "stdout",
     "output_type": "stream",
     "text": [
      "[0 1 2 3 4 5 6 7 8 9]\n"
     ]
    }
   ],
   "source": [
    "# loading single array\n",
    "load_arr1 = np.load('saved_array.npy')\n",
    "print(load_arr1)"
   ]
  },
  {
   "cell_type": "code",
   "execution_count": 7,
   "id": "4791f496",
   "metadata": {},
   "outputs": [],
   "source": [
    "# saving multiple array\n",
    "arr2 = np.arange(25)\n",
    "arr3 = np.arange(5)\n",
    "\n",
    "np.savez('saved_archieve.npz', x = arr2, y = arr3) # saved as a zip file"
   ]
  },
  {
   "cell_type": "code",
   "execution_count": 9,
   "id": "458ce7e9",
   "metadata": {},
   "outputs": [
    {
     "name": "stdout",
     "output_type": "stream",
     "text": [
      "[ 0  1  2  3  4  5  6  7  8  9 10 11 12 13 14 15 16 17 18 19 20 21 22 23\n",
      " 24]\n",
      "[0 1 2 3 4]\n"
     ]
    }
   ],
   "source": [
    "# loading multiple arrray\n",
    "load_npz = np.load('saved_archieve.npz')\n",
    "print(load_npz['x']) # arr2\n",
    "print(load_npz['y']) # arr3"
   ]
  },
  {
   "cell_type": "code",
   "execution_count": 11,
   "id": "a6a65e03",
   "metadata": {},
   "outputs": [],
   "source": [
    "# it is not possible to open .npy or .npz file to open in computer\n",
    "# saving array to text file\n",
    "\n",
    "np.savetxt('myarray.txt', arr2, delimiter=',')"
   ]
  },
  {
   "cell_type": "code",
   "execution_count": 12,
   "id": "fa3181a9",
   "metadata": {},
   "outputs": [
    {
     "name": "stdout",
     "output_type": "stream",
     "text": [
      "[ 0.  1.  2.  3.  4.  5.  6.  7.  8.  9. 10. 11. 12. 13. 14. 15. 16. 17.\n",
      " 18. 19. 20. 21. 22. 23. 24.]\n"
     ]
    }
   ],
   "source": [
    "# loading array from text file\n",
    "\n",
    "load_file = np.loadtxt('myarray.txt', delimiter=',')\n",
    "print(load_file)"
   ]
  },
  {
   "cell_type": "code",
   "execution_count": null,
   "id": "c0878d1e",
   "metadata": {},
   "outputs": [],
   "source": [
    "# what is a delimiter?\n",
    "# symbol which separates the elements of the array (',','-', etc)"
   ]
  }
 ],
 "metadata": {
  "kernelspec": {
   "display_name": "Python 3 (ipykernel)",
   "language": "python",
   "name": "python3"
  },
  "language_info": {
   "codemirror_mode": {
    "name": "ipython",
    "version": 3
   },
   "file_extension": ".py",
   "mimetype": "text/x-python",
   "name": "python",
   "nbconvert_exporter": "python",
   "pygments_lexer": "ipython3",
   "version": "3.8.2"
  }
 },
 "nbformat": 4,
 "nbformat_minor": 5 
}
