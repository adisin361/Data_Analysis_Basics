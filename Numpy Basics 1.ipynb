{
 "cells": [
  { 
   "cell_type": "code",
   "execution_count": 1,
   "id": "9deb5527",
   "metadata": {},
   "outputs": [],
   "source": [
    "import numpy as np"
   ]
  },
  {
   "cell_type": "code",
   "execution_count": 2,
   "id": "6c90555a",
   "metadata": {},
   "outputs": [
    {
     "name": "stdout",
     "output_type": "stream",
     "text": [
      "[101 102 103]\n"
     ]
    }
   ],
   "source": [
    "# creating 1D Numpy Array\n",
    "mylist1 = [101, 102, 103]\n",
    "myArray = np.array(mylist1)\n",
    "print(myArray)"
   ]
  },
  {
   "cell_type": "code",
   "execution_count": 4,
   "id": "d946e5ce",
   "metadata": {},
   "outputs": [
    {
     "name": "stdout",
     "output_type": "stream",
     "text": [
      "[[101 102 103]\n",
      " [201 202 203]]\n"
     ]
    }
   ],
   "source": [
    "# creating 2D Numpy Array\n",
    "mylist2 = [201, 202, 203]\n",
    "myArray2D = np.array([mylist1, mylist2])\n",
    "print(myArray2D)"
   ]
  },
  {
   "cell_type": "code",
   "execution_count": 6,
   "id": "8d47ad8b",
   "metadata": {},
   "outputs": [
    {
     "name": "stdout",
     "output_type": "stream",
     "text": [
      "myArray Dimension\n",
      "(3,)\n",
      "myArray2D Dimension\n",
      "(2, 3)\n"
     ]
    }
   ],
   "source": [
    "# Finding dimensions of array - shape\n",
    "print(\"myArray Dimension\")\n",
    "print(myArray.shape)\n",
    "print(\"myArray2D Dimension\")\n",
    "print(myArray2D.shape)"
   ]
  },
  {
   "cell_type": "code",
   "execution_count": 7,
   "id": "7451b017",
   "metadata": {},
   "outputs": [
    {
     "name": "stdout",
     "output_type": "stream",
     "text": [
      "myArray Datatype\n",
      "int32\n",
      "myArray2D Datatpe\n",
      "int32\n"
     ]
    }
   ],
   "source": [
    "# Finding Datatype of Array - dtype\n",
    "print(\"myArray Datatype\")\n",
    "print(myArray.dtype)\n",
    "print(\"myArray2D Datatpe\")\n",
    "print(myArray2D.dtype)"
   ]
  },
  {
   "cell_type": "code",
   "execution_count": 9,
   "id": "d147eec9",
   "metadata": {},
   "outputs": [
    {
     "name": "stdout",
     "output_type": "stream",
     "text": [
      "[0. 0. 0. 0. 0.]\n",
      "[[0. 0. 0. 0. 0.]\n",
      " [0. 0. 0. 0. 0.]\n",
      " [0. 0. 0. 0. 0.]\n",
      " [0. 0. 0. 0. 0.]\n",
      " [0. 0. 0. 0. 0.]]\n"
     ]
    }
   ],
   "source": [
    "# Array creation and initialisation function - zeros\n",
    "zero_array = np.zeros(5)\n",
    "print(zero_array)\n",
    "\n",
    "zero_array2D = np.zeros([5,5])\n",
    "print(zero_array2D)"
   ]
  },
  {
   "cell_type": "code",
   "execution_count": 12,
   "id": "bd7fb6ef",
   "metadata": {},
   "outputs": [
    {
     "name": "stdout",
     "output_type": "stream",
     "text": [
      "[1. 1. 1. 1. 1.]\n",
      "[[1. 1. 1. 1. 1.]\n",
      " [1. 1. 1. 1. 1.]\n",
      " [1. 1. 1. 1. 1.]\n",
      " [1. 1. 1. 1. 1.]\n",
      " [1. 1. 1. 1. 1.]]\n"
     ]
    }
   ],
   "source": [
    "# Array creation and initialisation function - ones\n",
    "ones_array = np.ones(5)\n",
    "print(ones_array)\n",
    "\n",
    "ones_array2D = np.ones([5,5])\n",
    "print(ones_array2D)"
   ]
  },
  {
   "cell_type": "code",
   "execution_count": 17,
   "id": "6234812f",
   "metadata": {},
   "outputs": [
    {
     "name": "stdout",
     "output_type": "stream",
     "text": [
      "[1. 1. 1. 1. 1.]\n",
      "[[1. 1. 1. 1. 1.]\n",
      " [1. 1. 1. 1. 1.]\n",
      " [1. 1. 1. 1. 1.]\n",
      " [1. 1. 1. 1. 1.]\n",
      " [1. 1. 1. 1. 1.]]\n"
     ]
    }
   ],
   "source": [
    "# Array creation and initialisation function - empty\n",
    "emptyArray = np.empty(5)\n",
    "print(emptyArray) #all values of emptyArray is '1' because it is the last stored value\n",
    "\n",
    "emptyArray2D = np.empty([5, 5])\n",
    "print(emptyArray2D)"
   ]
  },
  {
   "cell_type": "code",
   "execution_count": 20,
   "id": "3add80b9",
   "metadata": {
    "scrolled": true
   },
   "outputs": [
    {
     "name": "stdout",
     "output_type": "stream",
     "text": [
      "[[1. 0. 0. 0. 0.]\n",
      " [0. 1. 0. 0. 0.]\n",
      " [0. 0. 1. 0. 0.]\n",
      " [0. 0. 0. 1. 0.]\n",
      " [0. 0. 0. 0. 1.]]\n"
     ]
    }
   ],
   "source": [
    "# Array creation and initialisation function - eye\n",
    "identityArray = np.eye(5) #creates identity matrix - all diagonal elements is '1'\n",
    "print(identityArray)"
   ]
  },
  {
   "cell_type": "code",
   "execution_count": 22,
   "id": "ef3eb3dc",
   "metadata": {
    "scrolled": true
   },
   "outputs": [
    {
     "name": "stdout",
     "output_type": "stream",
     "text": [
      "[ 0  2  4  6  8 10 12 14 16 18 20 22 24 26 28 30 32 34 36 38 40 42 44 46\n",
      " 48]\n"
     ]
    }
   ],
   "source": [
    "# Array creation and initialisation function arange\n",
    "AP_array = np.arange(0, 50, 2) #start value, end value (50 not included), difference\n",
    "print(AP_array)"
   ]
  },
  {
   "cell_type": "code",
   "execution_count": null,
   "id": "8cdc684e",
   "metadata": {},
   "outputs": [],
   "source": []
  }
 ],
 "metadata": {
  "kernelspec": {
   "display_name": "Python 3 (ipykernel)",
   "language": "python",
   "name": "python3"
  },
  "language_info": {
   "codemirror_mode": {
    "name": "ipython",
    "version": 3
   },
   "file_extension": ".py",
   "mimetype": "text/x-python",
   "name": "python",
   "nbconvert_exporter": "python",
   "pygments_lexer": "ipython3",
   "version": "3.8.2"
  }
 },
 "nbformat": 4,
 "nbformat_minor": 5
}
