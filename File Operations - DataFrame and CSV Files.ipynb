{
 "cells": [
  {
   "cell_type": "code",
   "execution_count": 4,
   "id": "479e46f1",
   "metadata": {},
   "outputs": [],
   "source": [
    "import numpy as np\n",
    "import pandas as pd\n",
    "from pandas import Series, DataFrame"
   ]
  },
  {
   "cell_type": "code",
   "execution_count": 5,
   "id": "84da5fe0",
   "metadata": {},
   "outputs": [],
   "source": [
    "# CSV - Comma Separated Values\n",
    "# Each line in a file is a row"
   ]
  },
  {
   "cell_type": "code",
   "execution_count": 9,
   "id": "e846eb21",
   "metadata": {},
   "outputs": [
    {
     "name": "stdout",
     "output_type": "stream",
     "text": [
      "    Uber   6000  100  80  20\n",
      "0   Lyft  50000   90  50  40\n",
      "1   Grab  40000   80  60  20\n",
      "2  Gojek  30000   70  40  30\n",
      "3    Ola  20000   60  55   5\n"
     ]
    }
   ],
   "source": [
    "# importing csv files\n",
    "df1 = pd.read_csv(\"Cab_Company.csv\") #automatically takes the first row as header\n",
    "print (df1)"
   ]
  },
  {
   "cell_type": "code",
   "execution_count": 10,
   "id": "2ab40ef0",
   "metadata": {},
   "outputs": [
    {
     "name": "stdout",
     "output_type": "stream",
     "text": [
      "       0      1    2   3   4\n",
      "0   Uber   6000  100  80  20\n",
      "1   Lyft  50000   90  50  40\n",
      "2   Grab  40000   80  60  20\n",
      "3  Gojek  30000   70  40  30\n",
      "4    Ola  20000   60  55   5\n"
     ]
    }
   ],
   "source": [
    "# handling when we do not have a header\n",
    "df1 = pd.read_csv(\"Cab_Company.csv\", header = None)\n",
    "print (df1)"
   ]
  },
  {
   "cell_type": "code",
   "execution_count": 13,
   "id": "7b599051",
   "metadata": {},
   "outputs": [
    {
     "name": "stdout",
     "output_type": "stream",
     "text": [
      "       0      1    2   3   4\n",
      "0   Uber   6000  100  80  20\n",
      "1   Lyft  50000   90  50  40\n",
      "2   Grab  40000   80  60  20\n",
      "3  Gojek  30000   70  40  30\n",
      "4    Ola  20000   60  55   5\n"
     ]
    }
   ],
   "source": [
    "# read_table() function - we use a custom separator value (Delimeter)\n",
    "df3 = pd.read_table(\"Cab_Company.csv\", sep=',', header = None)\n",
    "print(df3)"
   ]
  },
  {
   "cell_type": "code",
   "execution_count": 16,
   "id": "2b6a18d3",
   "metadata": {},
   "outputs": [
    {
     "name": "stdout",
     "output_type": "stream",
     "text": [
      "      0      1    2   3   4\n",
      "0  Uber   6000  100  80  20\n",
      "1  Lyft  50000   90  50  40\n",
      "2  Grab  40000   80  60  20\n"
     ]
    }
   ],
   "source": [
    "#importing partial rows - if you have a lot of datas\n",
    "df4 = pd.read_csv(\"Cab_Company.csv\", nrows=3, header=None) # prints only the first 3 rows\n",
    "print(df4)"
   ]
  },
  {
   "cell_type": "code",
   "execution_count": 19,
   "id": "c2be3900",
   "metadata": {},
   "outputs": [],
   "source": [
    "# dumping dataframe to csv file\n",
    "df3.to_csv('output_comapanies1.txt', sep='!')"
   ]
  },
  {
   "cell_type": "code",
   "execution_count": 21,
   "id": "9d4a03b1",
   "metadata": {},
   "outputs": [],
   "source": [
    "df3.to_csv('output_companies3.txt', columns = [0,1]) # prints only 2 columns"
   ]
  },
  {
   "cell_type": "code",
   "execution_count": null,
   "id": "613cd27f",
   "metadata": {},
   "outputs": [],
   "source": []
  }
 ],
 "metadata": {
  "kernelspec": {
   "display_name": "Python 3 (ipykernel)",
   "language": "python",
   "name": "python3"
  },
  "language_info": {
   "codemirror_mode": {
    "name": "ipython",
    "version": 3
   },
   "file_extension": ".py",
   "mimetype": "text/x-python",
   "name": "python",
   "nbconvert_exporter": "python",
   "pygments_lexer": "ipython3",
   "version": "3.8.2"
  }
 },
 "nbformat": 4,
 "nbformat_minor": 5
}
