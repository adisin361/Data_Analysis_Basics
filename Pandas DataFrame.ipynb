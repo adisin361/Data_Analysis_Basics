{
 "cells": [
  {
   "cell_type": "code",
   "execution_count": 1,
   "id": "0fb95da6",
   "metadata": {},
   "outputs": [],
   "source": [
    "import numpy as np"
   ]
  },
  {
   "cell_type": "code",
   "execution_count": 25,
   "id": "f12f6617",
   "metadata": {},
   "outputs": [],
   "source": [
    "import pandas as pd\n",
    "from pandas import Series, DataFrame"
   ]
  },
  {
   "cell_type": "code",
   "execution_count": 5,
   "id": "ed9a3d60",
   "metadata": {},
   "outputs": [
    {
     "name": "stdout",
     "output_type": "stream",
     "text": [
      "  First name   Last name  Age\n",
      "0       Tinu    Elejogun   14\n",
      "1     Javier      Zapata   28\n",
      "2       Lily   McGarrett   18\n",
      "3  Olatunkbo    Chijiaku   22\n",
      "4   Adrienne    Anthoula   22\n",
      "5     Axelia  Athanasios   22\n",
      "6  Jon-Kabat        Zinn   22\n",
      "7    Thabang       Mosoa   15\n",
      "8   Kgaogelo       Mosoa   11\n"
     ]
    }
   ],
   "source": [
    "#create a dataframe from clipboard\n",
    "age_df = pd.read_clipboard()\n",
    "print(age_df)\n"
   ]
  },
  {
   "cell_type": "code",
   "execution_count": 6,
   "id": "9e41a27d",
   "metadata": {},
   "outputs": [
    {
     "data": {
      "text/plain": [
       "Index(['First name', 'Last name', 'Age'], dtype='object')"
      ]
     },
     "execution_count": 6,
     "metadata": {},
     "output_type": "execute_result"
    }
   ],
   "source": [
    "# display column names\n",
    "age_df.columns"
   ]
  },
  {
   "cell_type": "code",
   "execution_count": 9,
   "id": "3f80b82a",
   "metadata": {},
   "outputs": [
    {
     "data": {
      "text/plain": [
       "0         Tinu\n",
       "1       Javier\n",
       "2         Lily\n",
       "3    Olatunkbo\n",
       "4     Adrienne\n",
       "5       Axelia\n",
       "6    Jon-Kabat\n",
       "7      Thabang\n",
       "8     Kgaogelo\n",
       "Name: First name, dtype: object"
      ]
     },
     "execution_count": 9,
     "metadata": {},
     "output_type": "execute_result"
    }
   ],
   "source": [
    "#access one or more columns\n",
    "age_df['First name']"
   ]
  },
  {
   "cell_type": "code",
   "execution_count": 10,
   "id": "a878ddeb",
   "metadata": {},
   "outputs": [
    {
     "data": {
      "text/plain": [
       "0      Elejogun\n",
       "1        Zapata\n",
       "2     McGarrett\n",
       "3      Chijiaku\n",
       "4      Anthoula\n",
       "5    Athanasios\n",
       "6          Zinn\n",
       "7         Mosoa\n",
       "8         Mosoa\n",
       "Name: Last name, dtype: object"
      ]
     },
     "execution_count": 10,
     "metadata": {},
     "output_type": "execute_result"
    }
   ],
   "source": [
    "age_df['Last name']"
   ]
  },
  {
   "cell_type": "code",
   "execution_count": 13,
   "id": "f346eee1",
   "metadata": {},
   "outputs": [
    {
     "data": {
      "text/html": [
       "<div>\n",
       "<style scoped>\n",
       "    .dataframe tbody tr th:only-of-type {\n",
       "        vertical-align: middle;\n",
       "    }\n",
       "\n",
       "    .dataframe tbody tr th {\n",
       "        vertical-align: top;\n",
       "    }\n",
       "\n",
       "    .dataframe thead th {\n",
       "        text-align: right;\n",
       "    }\n",
       "</style>\n",
       "<table border=\"1\" class=\"dataframe\">\n",
       "  <thead>\n",
       "    <tr style=\"text-align: right;\">\n",
       "      <th></th>\n",
       "      <th>First name</th>\n",
       "      <th>Age</th>\n",
       "    </tr>\n",
       "  </thead>\n",
       "  <tbody>\n",
       "    <tr>\n",
       "      <th>0</th>\n",
       "      <td>Tinu</td>\n",
       "      <td>14</td>\n",
       "    </tr>\n",
       "    <tr>\n",
       "      <th>1</th>\n",
       "      <td>Javier</td>\n",
       "      <td>28</td>\n",
       "    </tr>\n",
       "    <tr>\n",
       "      <th>2</th>\n",
       "      <td>Lily</td>\n",
       "      <td>18</td>\n",
       "    </tr>\n",
       "    <tr>\n",
       "      <th>3</th>\n",
       "      <td>Olatunkbo</td>\n",
       "      <td>22</td>\n",
       "    </tr>\n",
       "    <tr>\n",
       "      <th>4</th>\n",
       "      <td>Adrienne</td>\n",
       "      <td>22</td>\n",
       "    </tr>\n",
       "    <tr>\n",
       "      <th>5</th>\n",
       "      <td>Axelia</td>\n",
       "      <td>22</td>\n",
       "    </tr>\n",
       "    <tr>\n",
       "      <th>6</th>\n",
       "      <td>Jon-Kabat</td>\n",
       "      <td>22</td>\n",
       "    </tr>\n",
       "    <tr>\n",
       "      <th>7</th>\n",
       "      <td>Thabang</td>\n",
       "      <td>15</td>\n",
       "    </tr>\n",
       "    <tr>\n",
       "      <th>8</th>\n",
       "      <td>Kgaogelo</td>\n",
       "      <td>11</td>\n",
       "    </tr>\n",
       "  </tbody>\n",
       "</table>\n",
       "</div>"
      ],
      "text/plain": [
       "  First name  Age\n",
       "0       Tinu   14\n",
       "1     Javier   28\n",
       "2       Lily   18\n",
       "3  Olatunkbo   22\n",
       "4   Adrienne   22\n",
       "5     Axelia   22\n",
       "6  Jon-Kabat   22\n",
       "7    Thabang   15\n",
       "8   Kgaogelo   11"
      ]
     },
     "execution_count": 13,
     "metadata": {},
     "output_type": "execute_result"
    }
   ],
   "source": [
    "age_df[['First name', 'Age']]"
   ]
  },
  {
   "cell_type": "code",
   "execution_count": 14,
   "id": "b7250eed",
   "metadata": {},
   "outputs": [
    {
     "name": "stdout",
     "output_type": "stream",
     "text": [
      "  First name   Last name  Age  rank\n",
      "0       Tinu    Elejogun   14   NaN\n",
      "1     Javier      Zapata   28   NaN\n",
      "2       Lily   McGarrett   18   NaN\n",
      "3  Olatunkbo    Chijiaku   22   NaN\n",
      "4   Adrienne    Anthoula   22   NaN\n",
      "5     Axelia  Athanasios   22   NaN\n",
      "6  Jon-Kabat        Zinn   22   NaN\n",
      "7    Thabang       Mosoa   15   NaN\n",
      "8   Kgaogelo       Mosoa   11   NaN\n"
     ]
    }
   ],
   "source": [
    "# what is NAN value - nb\n",
    "#Create a column with NaN values\n",
    "age_df['rank'] = np.nan #returns NAN values\n",
    "print(age_df)"
   ]
  },
  {
   "cell_type": "code",
   "execution_count": 15,
   "id": "1128db5f",
   "metadata": {},
   "outputs": [
    {
     "data": {
      "text/html": [
       "<div>\n",
       "<style scoped>\n",
       "    .dataframe tbody tr th:only-of-type {\n",
       "        vertical-align: middle;\n",
       "    }\n",
       "\n",
       "    .dataframe tbody tr th {\n",
       "        vertical-align: top;\n",
       "    }\n",
       "\n",
       "    .dataframe thead th {\n",
       "        text-align: right;\n",
       "    }\n",
       "</style>\n",
       "<table border=\"1\" class=\"dataframe\">\n",
       "  <thead>\n",
       "    <tr style=\"text-align: right;\">\n",
       "      <th></th>\n",
       "      <th>First name</th>\n",
       "      <th>Last name</th>\n",
       "      <th>Age</th>\n",
       "      <th>rank</th>\n",
       "    </tr>\n",
       "  </thead>\n",
       "  <tbody>\n",
       "    <tr>\n",
       "      <th>0</th>\n",
       "      <td>Tinu</td>\n",
       "      <td>Elejogun</td>\n",
       "      <td>14</td>\n",
       "      <td>NaN</td>\n",
       "    </tr>\n",
       "    <tr>\n",
       "      <th>1</th>\n",
       "      <td>Javier</td>\n",
       "      <td>Zapata</td>\n",
       "      <td>28</td>\n",
       "      <td>NaN</td>\n",
       "    </tr>\n",
       "    <tr>\n",
       "      <th>2</th>\n",
       "      <td>Lily</td>\n",
       "      <td>McGarrett</td>\n",
       "      <td>18</td>\n",
       "      <td>NaN</td>\n",
       "    </tr>\n",
       "    <tr>\n",
       "      <th>3</th>\n",
       "      <td>Olatunkbo</td>\n",
       "      <td>Chijiaku</td>\n",
       "      <td>22</td>\n",
       "      <td>NaN</td>\n",
       "    </tr>\n",
       "    <tr>\n",
       "      <th>4</th>\n",
       "      <td>Adrienne</td>\n",
       "      <td>Anthoula</td>\n",
       "      <td>22</td>\n",
       "      <td>NaN</td>\n",
       "    </tr>\n",
       "  </tbody>\n",
       "</table>\n",
       "</div>"
      ],
      "text/plain": [
       "  First name  Last name  Age  rank\n",
       "0       Tinu   Elejogun   14   NaN\n",
       "1     Javier     Zapata   28   NaN\n",
       "2       Lily  McGarrett   18   NaN\n",
       "3  Olatunkbo   Chijiaku   22   NaN\n",
       "4   Adrienne   Anthoula   22   NaN"
      ]
     },
     "execution_count": 15,
     "metadata": {},
     "output_type": "execute_result"
    }
   ],
   "source": [
    "#head and tail functions\n",
    "age_df.head() #prints the first five rows of the table"
   ]
  },
  {
   "cell_type": "code",
   "execution_count": 16,
   "id": "f396aaa7",
   "metadata": {},
   "outputs": [
    {
     "data": {
      "text/html": [
       "<div>\n",
       "<style scoped>\n",
       "    .dataframe tbody tr th:only-of-type {\n",
       "        vertical-align: middle;\n",
       "    }\n",
       "\n",
       "    .dataframe tbody tr th {\n",
       "        vertical-align: top;\n",
       "    }\n",
       "\n",
       "    .dataframe thead th {\n",
       "        text-align: right;\n",
       "    }\n",
       "</style>\n",
       "<table border=\"1\" class=\"dataframe\">\n",
       "  <thead>\n",
       "    <tr style=\"text-align: right;\">\n",
       "      <th></th>\n",
       "      <th>First name</th>\n",
       "      <th>Last name</th>\n",
       "      <th>Age</th>\n",
       "      <th>rank</th>\n",
       "    </tr>\n",
       "  </thead>\n",
       "  <tbody>\n",
       "    <tr>\n",
       "      <th>4</th>\n",
       "      <td>Adrienne</td>\n",
       "      <td>Anthoula</td>\n",
       "      <td>22</td>\n",
       "      <td>NaN</td>\n",
       "    </tr>\n",
       "    <tr>\n",
       "      <th>5</th>\n",
       "      <td>Axelia</td>\n",
       "      <td>Athanasios</td>\n",
       "      <td>22</td>\n",
       "      <td>NaN</td>\n",
       "    </tr>\n",
       "    <tr>\n",
       "      <th>6</th>\n",
       "      <td>Jon-Kabat</td>\n",
       "      <td>Zinn</td>\n",
       "      <td>22</td>\n",
       "      <td>NaN</td>\n",
       "    </tr>\n",
       "    <tr>\n",
       "      <th>7</th>\n",
       "      <td>Thabang</td>\n",
       "      <td>Mosoa</td>\n",
       "      <td>15</td>\n",
       "      <td>NaN</td>\n",
       "    </tr>\n",
       "    <tr>\n",
       "      <th>8</th>\n",
       "      <td>Kgaogelo</td>\n",
       "      <td>Mosoa</td>\n",
       "      <td>11</td>\n",
       "      <td>NaN</td>\n",
       "    </tr>\n",
       "  </tbody>\n",
       "</table>\n",
       "</div>"
      ],
      "text/plain": [
       "  First name   Last name  Age  rank\n",
       "4   Adrienne    Anthoula   22   NaN\n",
       "5     Axelia  Athanasios   22   NaN\n",
       "6  Jon-Kabat        Zinn   22   NaN\n",
       "7    Thabang       Mosoa   15   NaN\n",
       "8   Kgaogelo       Mosoa   11   NaN"
      ]
     },
     "execution_count": 16,
     "metadata": {},
     "output_type": "execute_result"
    }
   ],
   "source": [
    "age_df.tail() #prints the last five rows of the table"
   ]
  },
  {
   "cell_type": "code",
   "execution_count": 18,
   "id": "e2ec1319",
   "metadata": {},
   "outputs": [
    {
     "name": "stdout",
     "output_type": "stream",
     "text": [
      "[0 1 2 3 4 5 6 7 8]\n"
     ]
    }
   ],
   "source": [
    "#assign values to a dataframe using 1. Numpy 2. Series\n",
    "#1. Numpy\n",
    "array_1 = np.arange(9)\n",
    "print(array_1)"
   ]
  },
  {
   "cell_type": "code",
   "execution_count": 19,
   "id": "563ccc26",
   "metadata": {},
   "outputs": [
    {
     "name": "stdout",
     "output_type": "stream",
     "text": [
      "  First name   Last name  Age  rank\n",
      "0       Tinu    Elejogun   14     0\n",
      "1     Javier      Zapata   28     1\n",
      "2       Lily   McGarrett   18     2\n",
      "3  Olatunkbo    Chijiaku   22     3\n",
      "4   Adrienne    Anthoula   22     4\n",
      "5     Axelia  Athanasios   22     5\n",
      "6  Jon-Kabat        Zinn   22     6\n",
      "7    Thabang       Mosoa   15     7\n",
      "8   Kgaogelo       Mosoa   11     8\n"
     ]
    }
   ],
   "source": [
    "age_df['rank'] = array_1\n",
    "print(age_df)"
   ]
  },
  {
   "cell_type": "code",
   "execution_count": 20,
   "id": "e3c7801d",
   "metadata": {},
   "outputs": [
    {
     "name": "stdout",
     "output_type": "stream",
     "text": [
      "  First name   Last name  Age  rank\n",
      "0       Tinu    Elejogun   14   NaN\n",
      "1     Javier      Zapata   28   NaN\n",
      "2       Lily   McGarrett   18   NaN\n",
      "3  Olatunkbo    Chijiaku   22  10.0\n",
      "4   Adrienne    Anthoula   22   NaN\n",
      "5     Axelia  Athanasios   22  11.0\n",
      "6  Jon-Kabat        Zinn   22  12.0\n",
      "7    Thabang       Mosoa   15   NaN\n",
      "8   Kgaogelo       Mosoa   11   NaN\n"
     ]
    }
   ],
   "source": [
    "#2. Series\n",
    "\n",
    "newrank_series = Series([10,11,12], index=[3,5,6])\n",
    "age_df['rank'] = newrank_series\n",
    "print(age_df)"
   ]
  },
  {
   "cell_type": "code",
   "execution_count": 21,
   "id": "0349f6ce",
   "metadata": {},
   "outputs": [
    {
     "name": "stdout",
     "output_type": "stream",
     "text": [
      "  First name  Age  rank\n",
      "0       Tinu   14   NaN\n",
      "1     Javier   28   NaN\n",
      "2       Lily   18   NaN\n",
      "3  Olatunkbo   22  10.0\n",
      "4   Adrienne   22   NaN\n",
      "5     Axelia   22  11.0\n",
      "6  Jon-Kabat   22  12.0\n",
      "7    Thabang   15   NaN\n",
      "8   Kgaogelo   11   NaN\n"
     ]
    }
   ],
   "source": [
    "# delete a column\n",
    "del(age_df['Last name'])\n",
    "print(age_df)"
   ]
  },
  {
   "cell_type": "code",
   "execution_count": 27,
   "id": "b5d6d447",
   "metadata": {},
   "outputs": [
    {
     "name": "stdout",
     "output_type": "stream",
     "text": [
      "{'company': ['Nestle', 'PG'], 'profit': [1000, 500]}\n"
     ]
    }
   ],
   "source": [
    " #convert dictionary to a dataframe\n",
    "sample_dict = {\n",
    "    'company' : ['Nestle', 'PG'],\n",
    "    'profit' : [1000, 500]\n",
    "}\n",
    "\n",
    "print(sample_dict)"
   ]
  },
  {
   "cell_type": "code",
   "execution_count": 28,
   "id": "f81a13ff",
   "metadata": {},
   "outputs": [
    {
     "name": "stdout",
     "output_type": "stream",
     "text": [
      "  company  profit\n",
      "0  Nestle    1000\n",
      "1      PG     500\n"
     ]
    }
   ],
   "source": [
    "sample_df = DataFrame(sample_dict)\n",
    "print(sample_df)"
   ]
  },
  {
   "cell_type": "code",
   "execution_count": null,
   "id": "9572a29e",
   "metadata": {},
   "outputs": [],
   "source": []
  }
 ],
 "metadata": {
  "kernelspec": {
   "display_name": "Python 3 (ipykernel)",
   "language": "python",
   "name": "python3"
  },
  "language_info": {
   "codemirror_mode": {
    "name": "ipython",
    "version": 3
   },
   "file_extension": ".py",
   "mimetype": "text/x-python",
   "name": "python",
   "nbconvert_exporter": "python",
   "pygments_lexer": "ipython3",
   "version": "3.8.2"
  }
 },
 "nbformat": 4,
 "nbformat_minor": 5
}
