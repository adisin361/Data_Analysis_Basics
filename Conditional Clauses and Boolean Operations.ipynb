{
 "cells": [
  {
   "cell_type": "code",
   "execution_count": 1,
   "id": "05fae0e0",
   "metadata": {},
   "outputs": [],
   "source": [
    "import numpy as np"
   ]
  },
  {
   "cell_type": "code",
   "execution_count": 3,
   "id": "6a0c5118",
   "metadata": {},
   "outputs": [
    {
     "name": "stdout",
     "output_type": "stream",
     "text": [
      "[100, 400, 20, 25]\n"
     ]
    }
   ],
   "source": [
    "# populate a list based on conditional values\n",
    "\n",
    "x = np.array([100,400,-50,-40]) # each element a\n",
    "y = np.array([10,15,20,25]) # each element b\n",
    "\n",
    "condition = np.array([True, True, False, False]) # each element cond\n",
    "\n",
    "z = [a if cond else b for a, cond, b in zip(x, condition, y)]\n",
    "print(z)"
   ]
  },
  {
   "cell_type": "code",
   "execution_count": 4,
   "id": "d5961f30",
   "metadata": {},
   "outputs": [
    {
     "name": "stdout",
     "output_type": "stream",
     "text": [
      "[100 400  20  25]\n"
     ]
    }
   ],
   "source": [
    "# using np.where(condition, values for true, values for false)\n",
    "z2 = np.where(condition, x, y) # simpler than the prev method\n",
    "print(z2)"
   ]
  },
  {
   "cell_type": "code",
   "execution_count": 5,
   "id": "5ba4da38",
   "metadata": {},
   "outputs": [
    {
     "name": "stdout",
     "output_type": "stream",
     "text": [
      "[  1   1 -50 -40]\n"
     ]
    }
   ],
   "source": [
    "z3 = np.where(x>0, 1, x)\n",
    "print(z3)"
   ]
  },
  {
   "cell_type": "code",
   "execution_count": 6,
   "id": "3a33ca40",
   "metadata": {},
   "outputs": [
    {
     "name": "stdout",
     "output_type": "stream",
     "text": [
      "410\n"
     ]
    }
   ],
   "source": [
    "#standard functions in numpy - sum, sum(0), mean(), std(), var()\n",
    "print(x.sum())"
   ]
  },
  {
   "cell_type": "code",
   "execution_count": 8,
   "id": "fd2287c9",
   "metadata": {},
   "outputs": [
    {
     "name": "stdout",
     "output_type": "stream",
     "text": [
      "[[1 2]\n",
      " [3 4]]\n"
     ]
    }
   ],
   "source": [
    "x2 = np.array([[1,2], [3,4]])\n",
    "print(x2)"
   ]
  },
  {
   "cell_type": "code",
   "execution_count": 9,
   "id": "92a94862",
   "metadata": {},
   "outputs": [
    {
     "name": "stdout",
     "output_type": "stream",
     "text": [
      "[4 6]\n"
     ]
    }
   ],
   "source": [
    "print(x2.sum(0)) # gives the sum of columns"
   ]
  },
  {
   "cell_type": "code",
   "execution_count": 10,
   "id": "2c44bb69",
   "metadata": {},
   "outputs": [
    {
     "name": "stdout",
     "output_type": "stream",
     "text": [
      "102.5\n"
     ]
    }
   ],
   "source": [
    "print(x.mean())"
   ]
  },
  {
   "cell_type": "code",
   "execution_count": 11,
   "id": "f463c549",
   "metadata": {},
   "outputs": [
    {
     "name": "stdout",
     "output_type": "stream",
     "text": [
      "181.71062159378576\n"
     ]
    }
   ],
   "source": [
    "print(x.std())"
   ]
  },
  {
   "cell_type": "code",
   "execution_count": 12,
   "id": "883396c2",
   "metadata": {},
   "outputs": [
    {
     "name": "stdout",
     "output_type": "stream",
     "text": [
      "33018.75\n"
     ]
    }
   ],
   "source": [
    "print(x.var())"
   ]
  },
  {
   "cell_type": "code",
   "execution_count": 14,
   "id": "8c2239e5",
   "metadata": {},
   "outputs": [
    {
     "name": "stdout",
     "output_type": "stream",
     "text": [
      "True\n",
      "False\n"
     ]
    }
   ],
   "source": [
    "# Logical AND OR opertion - any(), all()\n",
    "\n",
    "condition2 = np.array([True, False, True])\n",
    "\n",
    "#OR\n",
    "print(condition2.any())\n",
    "\n",
    "#AND\n",
    "print(condition2.all())"
   ]
  },
  {
   "cell_type": "code",
   "execution_count": 16,
   "id": "f966aef8",
   "metadata": {},
   "outputs": [
    {
     "name": "stdout",
     "output_type": "stream",
     "text": [
      "[ 1  2 10  6  4  3]\n",
      "[ 1  2  3  4  6 10]\n"
     ]
    }
   ],
   "source": [
    "# sort() function \n",
    "unsorted = np.array([1,2,10,6,4,3])\n",
    "print(unsorted)\n",
    "unsorted.sort()\n",
    "print(unsorted)"
   ]
  },
  {
   "cell_type": "code",
   "execution_count": 17,
   "id": "502e6756",
   "metadata": {},
   "outputs": [
    {
     "data": {
      "text/plain": [
       "array(['gas', 'liquid', 'solid'], dtype='<U6')"
      ]
     },
     "execution_count": 17,
     "metadata": {},
     "output_type": "execute_result"
    }
   ],
   "source": [
    "# unique\n",
    "arr2 = np.array(['liquid','liquid','liquid','gas','gas','solid','solid'])\n",
    "np.unique(arr2) # prints unique elements"
   ]
  },
  {
   "cell_type": "code",
   "execution_count": 18,
   "id": "0e994ddb",
   "metadata": {},
   "outputs": [
    {
     "name": "stdout",
     "output_type": "stream",
     "text": [
      "[ True  True False]\n"
     ]
    }
   ],
   "source": [
    "# in1d()\n",
    "\n",
    "print(np.in1d(['solid', 'liquid', 'plasma'], arr2))"
   ]
  },
  {
   "cell_type": "code",
   "execution_count": null,
   "id": "b62c8e0c",
   "metadata": {},
   "outputs": [],
   "source": []
  }
 ],
 "metadata": {
  "kernelspec": {
   "display_name": "Python 3 (ipykernel)",
   "language": "python",
   "name": "python3"
  },
  "language_info": {
   "codemirror_mode": {
    "name": "ipython",
    "version": 3
   },
   "file_extension": ".py",
   "mimetype": "text/x-python",
   "name": "python",
   "nbconvert_exporter": "python",
   "pygments_lexer": "ipython3",
   "version": "3.8.2"
  }
 },
 "nbformat": 4,
 "nbformat_minor": 5
}
