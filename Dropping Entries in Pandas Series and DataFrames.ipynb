{
 "cells": [
  {
   "cell_type": "code",
   "execution_count": 1,
   "id": "dd7a9329",
   "metadata": {},
   "outputs": [],
   "source": [
    "import numpy as np\n",
    "import pandas as pd\n",
    "from pandas import Series, DataFrame"
   ]
  },
  {
   "cell_type": "code",
   "execution_count": 2,
   "id": "e5fe2577",
   "metadata": {},
   "outputs": [
    {
     "name": "stdout",
     "output_type": "stream",
     "text": [
      "a         BMW\n",
      "b    Mercedes\n",
      "c        Audi\n",
      "dtype: object\n"
     ]
    }
   ],
   "source": [
    "# drop values from series\n",
    "cars = Series(['BMW', 'Mercedes', 'Audi'], index=['a', 'b', 'c'])\n",
    "print(cars)"
   ]
  },
  {
   "cell_type": "code",
   "execution_count": 3,
   "id": "ab58f0ff",
   "metadata": {},
   "outputs": [
    {
     "name": "stdout",
     "output_type": "stream",
     "text": [
      "b    Mercedes\n",
      "c        Audi\n",
      "dtype: object\n"
     ]
    }
   ],
   "source": [
    "cars = cars.drop('a')\n",
    "print(cars)"
   ]
  },
  {
   "cell_type": "code",
   "execution_count": 4,
   "id": "02e06ac7",
   "metadata": {},
   "outputs": [
    {
     "name": "stdout",
     "output_type": "stream",
     "text": [
      "             test1     test2     test3\n",
      "BMW       0.382750  0.665945 -0.147853\n",
      "Mercedes -0.878567  0.914817 -0.269744\n",
      "Audi      0.743848  1.047857 -0.548366\n"
     ]
    }
   ],
   "source": [
    "# drop rows from DataFrame\n",
    "# drop columns from DataFrame\n",
    "\n",
    "cars_df = DataFrame(np.random.randn(9).reshape(3,3), index=['BMW', 'Mercedes', 'Audi'], columns=['test1', 'test2', 'test3'])\n",
    "print(cars_df)"
   ]
  },
  {
   "cell_type": "code",
   "execution_count": 5,
   "id": "b39d6783",
   "metadata": {},
   "outputs": [
    {
     "name": "stdout",
     "output_type": "stream",
     "text": [
      "             test1     test2     test3\n",
      "Mercedes -0.878567  0.914817 -0.269744\n",
      "Audi      0.743848  1.047857 -0.548366\n"
     ]
    }
   ],
   "source": [
    "cars_df = cars_df.drop('BMW') #removes row (BMW), drop has a second parameter i.e. axis which is set to 0 for row\n",
    "print(cars_df)"
   ]
  },
  {
   "cell_type": "code",
   "execution_count": 6,
   "id": "6b8976f4",
   "metadata": {},
   "outputs": [
    {
     "name": "stdout",
     "output_type": "stream",
     "text": [
      "             test2     test3\n",
      "Mercedes  0.914817 -0.269744\n",
      "Audi      1.047857 -0.548366\n"
     ]
    }
   ],
   "source": [
    "cars_df = cars_df.drop('test1', axis=1)\n",
    "print(cars_df)"
   ]
  },
  {
   "cell_type": "code",
   "execution_count": null,
   "id": "e9458128",
   "metadata": {},
   "outputs": [],
   "source": []
  }
 ],
 "metadata": {
  "kernelspec": {
   "display_name": "Python 3 (ipykernel)",
   "language": "python",
   "name": "python3"
  },
  "language_info": {
   "codemirror_mode": {
    "name": "ipython",
    "version": 3
   },
   "file_extension": ".py",
   "mimetype": "text/x-python",
   "name": "python",
   "nbconvert_exporter": "python",
   "pygments_lexer": "ipython3",
   "version": "3.8.2"
  }
 },
 "nbformat": 4,
 "nbformat_minor": 5
}
