{
 "cells": [
  {
   "cell_type": "code",
   "execution_count": 1,
   "id": "8366578f",
   "metadata": {},
   "outputs": [],
   "source": [
    "import numpy as np\n",
    "import pandas as pd\n",
    "from pandas import Series, DataFrame"
   ]
  },
  {
   "cell_type": "code",
   "execution_count": 10,
   "id": "d7a73922",
   "metadata": {},
   "outputs": [
    {
     "name": "stdout",
     "output_type": "stream",
     "text": [
      "a    500\n",
      "c    400\n",
      "b    650\n",
      "dtype: int64\n"
     ]
    }
   ],
   "source": [
    "ser1 = Series([500,400,650], index = ['a', 'c', 'b'])\n",
    "print (ser1)"
   ]
  },
  {
   "cell_type": "code",
   "execution_count": 11,
   "id": "6a6e1acb",
   "metadata": {},
   "outputs": [
    {
     "data": {
      "text/plain": [
       "a    500\n",
       "b    650\n",
       "c    400\n",
       "dtype: int64"
      ]
     },
     "execution_count": 11,
     "metadata": {},
     "output_type": "execute_result"
    }
   ],
   "source": [
    "ser1.sort_index() #sorting by index"
   ]
  },
  {
   "cell_type": "code",
   "execution_count": 12,
   "id": "3d660ec5",
   "metadata": {},
   "outputs": [
    {
     "data": {
      "text/plain": [
       "c    400\n",
       "a    500\n",
       "b    650\n",
       "dtype: int64"
      ]
     },
     "execution_count": 12,
     "metadata": {},
     "output_type": "execute_result"
    }
   ],
   "source": [
    "ser1.sort_values() #sort by values"
   ]
  },
  {
   "cell_type": "code",
   "execution_count": 14,
   "id": "f6beba67",
   "metadata": {},
   "outputs": [
    {
     "name": "stdout",
     "output_type": "stream",
     "text": [
      "0    10\n",
      "1    15\n",
      "2    14\n",
      "3    12\n",
      "4     6\n",
      "5     7\n",
      "dtype: int64\n"
     ]
    }
   ],
   "source": [
    "# ranking of Series\n",
    "ser2 = Series([10,15,14,12,6,7])\n",
    "print (ser2)"
   ]
  },
  {
   "cell_type": "code",
   "execution_count": 16,
   "id": "3eddc006",
   "metadata": {},
   "outputs": [
    {
     "data": {
      "text/plain": [
       "0    3.0\n",
       "1    6.0\n",
       "2    5.0\n",
       "3    4.0\n",
       "4    1.0\n",
       "5    2.0\n",
       "dtype: float64"
      ]
     },
     "execution_count": 16,
     "metadata": {},
     "output_type": "execute_result"
    }
   ],
   "source": [
    "ser2.rank() # the least number gets the rank 1"
   ]
  },
  {
   "cell_type": "code",
   "execution_count": 26,
   "id": "5a4bec08",
   "metadata": {},
   "outputs": [
    {
     "name": "stdout",
     "output_type": "stream",
     "text": [
      "0    3.0\n",
      "1    6.0\n",
      "2    5.0\n",
      "3    4.0\n",
      "4    1.0\n",
      "5    2.0\n",
      "dtype: float64\n",
      "4    1.0\n",
      "5    2.0\n",
      "0    3.0\n",
      "3    4.0\n",
      "2    5.0\n",
      "1    6.0\n",
      "dtype: float64\n"
     ]
    }
   ],
   "source": [
    "# interesting fact - sorting uses ranking functions\n",
    "print(ser2.rank())\n",
    "ser2 = ser2.sort_values()\n",
    "print(ser2.rank())"
   ]
  },
  {
   "cell_type": "code",
   "execution_count": null,
   "id": "c8e1b957",
   "metadata": {},
   "outputs": [],
   "source": []
  }
 ],
 "metadata": {
  "kernelspec": {
   "display_name": "Python 3 (ipykernel)",
   "language": "python",
   "name": "python3"
  },
  "language_info": {
   "codemirror_mode": {
    "name": "ipython",
    "version": 3
   },
   "file_extension": ".py",
   "mimetype": "text/x-python",
   "name": "python",
   "nbconvert_exporter": "python",
   "pygments_lexer": "ipython3",
   "version": "3.8.2"
  }
 },
 "nbformat": 4,
 "nbformat_minor": 5
}
