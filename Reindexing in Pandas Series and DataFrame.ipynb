{
 "cells": [
  {
   "cell_type": "code",
   "execution_count": 1,
   "id": "21c5cddf",
   "metadata": {},
   "outputs": [],
   "source": [
    "import numpy as np\n",
    "import pandas as pd\n",
    "from pandas import Series, DataFrame"
   ]
  },
  {
   "cell_type": "code",
   "execution_count": 3,
   "id": "579dc511",
   "metadata": {},
   "outputs": [
    {
     "name": "stdout",
     "output_type": "stream",
     "text": [
      "a    1\n",
      "b    2\n",
      "c    3\n",
      "d    4\n",
      "dtype: int64\n"
     ]
    }
   ],
   "source": [
    "# reindexing in series - reindex() method\n",
    "s1 = Series([1,2,3,4], index = ['a', 'b', 'c', 'd'])\n",
    "print(s1)"
   ]
  },
  {
   "cell_type": "code",
   "execution_count": 4,
   "id": "286fc9d7",
   "metadata": {},
   "outputs": [
    {
     "name": "stdout",
     "output_type": "stream",
     "text": [
      "a    1.0\n",
      "b    2.0\n",
      "c    3.0\n",
      "d    4.0\n",
      "e    NaN\n",
      "f    NaN\n",
      "dtype: float64\n"
     ]
    }
   ],
   "source": [
    "s1 = s1.reindex(['a', 'b', 'c', 'd', 'e', 'f'])\n",
    "print(s1)"
   ]
  },
  {
   "cell_type": "code",
   "execution_count": 5,
   "id": "9baa48dd",
   "metadata": {},
   "outputs": [
    {
     "name": "stdout",
     "output_type": "stream",
     "text": [
      "a      1.0\n",
      "b      2.0\n",
      "c      3.0\n",
      "d      4.0\n",
      "e      NaN\n",
      "f      NaN\n",
      "g    100.0\n",
      "dtype: float64\n"
     ]
    }
   ],
   "source": [
    "# reindexing in series - reindex() method with fill_value\n",
    "s1 = s1.reindex(['a', 'b', 'c', 'd', 'e', 'f', 'g'], fill_value = 100)\n",
    "print(s1)"
   ]
  },
  {
   "cell_type": "code",
   "execution_count": 6,
   "id": "2aebc00a",
   "metadata": {},
   "outputs": [
    {
     "name": "stdout",
     "output_type": "stream",
     "text": [
      "0        Audi\n",
      "4    Mercedes\n",
      "8         BMW\n",
      "dtype: object\n"
     ]
    }
   ],
   "source": [
    "# reindexing in series - forwardfill\n",
    "cars = Series(['Audi', 'Mercedes', 'BMW'], index=[0,4,8])\n",
    "print(cars)"
   ]
  },
  {
   "cell_type": "code",
   "execution_count": 7,
   "id": "93439108",
   "metadata": {},
   "outputs": [
    {
     "name": "stdout",
     "output_type": "stream",
     "text": [
      "0         Audi\n",
      "1         Audi\n",
      "2         Audi\n",
      "3         Audi\n",
      "4     Mercedes\n",
      "5     Mercedes\n",
      "6     Mercedes\n",
      "7     Mercedes\n",
      "8          BMW\n",
      "9          BMW\n",
      "10         BMW\n",
      "11         BMW\n",
      "dtype: object\n"
     ]
    }
   ],
   "source": [
    "new_index = range(12) # creates list of numbers from 0 to 11\n",
    "cars = cars.reindex(new_index, method=\"ffill\") # this will create a new a new array from indexes 0 - 11\n",
    "print(cars)"
   ]
  },
  {
   "cell_type": "code",
   "execution_count": 8,
   "id": "2b5ae091",
   "metadata": {},
   "outputs": [
    {
     "name": "stdout",
     "output_type": "stream",
     "text": [
      "         c1        c2        c3        c4        c5\n",
      "a  0.509376 -3.959918 -0.374882 -0.229506 -0.912425\n",
      "b  0.355620  1.132958 -0.132881  2.455433 -1.680581\n",
      "c -1.806577 -0.553476 -0.923954  0.401338 -0.202096\n",
      "d -0.475819 -1.722259 -0.526638  1.155234  1.034266\n",
      "e -2.307182  0.156369 -0.636350 -0.596146  0.333618\n"
     ]
    }
   ],
   "source": [
    "# reindexing in DataFrames\n",
    "df1 = DataFrame(np.random.randn(25).reshape(5,5), index=['a','b','c','d','e'], columns=['c1','c2','c3','c4','c5']) #creates numpy array of 25 elements\n",
    "print(df1)\n"
   ]
  },
  {
   "cell_type": "code",
   "execution_count": 9,
   "id": "1bdeb598",
   "metadata": {},
   "outputs": [
    {
     "name": "stdout",
     "output_type": "stream",
     "text": [
      "         c1        c2        c3        c4        c5  c6\n",
      "a  0.509376 -3.959918 -0.374882 -0.229506 -0.912425 NaN\n",
      "b  0.355620  1.132958 -0.132881  2.455433 -1.680581 NaN\n",
      "c -1.806577 -0.553476 -0.923954  0.401338 -0.202096 NaN\n",
      "d -0.475819 -1.722259 -0.526638  1.155234  1.034266 NaN\n",
      "e -2.307182  0.156369 -0.636350 -0.596146  0.333618 NaN\n",
      "f       NaN       NaN       NaN       NaN       NaN NaN\n"
     ]
    }
   ],
   "source": [
    "df1=df1.reindex(index=['a', 'b', 'c', 'd', 'e', 'f'], columns=['c1','c2','c3','c4','c5','c6'])\n",
    "print(df1)"
   ]
  },
  {
   "cell_type": "code",
   "execution_count": null,
   "id": "dd8257ee",
   "metadata": {},
   "outputs": [],
   "source": []
  }
 ],
 "metadata": {
  "kernelspec": {
   "display_name": "Python 3 (ipykernel)",
   "language": "python",
   "name": "python3"
  },
  "language_info": {
   "codemirror_mode": {
    "name": "ipython",
    "version": 3
   },
   "file_extension": ".py",
   "mimetype": "text/x-python",
   "name": "python",
   "nbconvert_exporter": "python",
   "pygments_lexer": "ipython3",
   "version": "3.8.2"
  }
 },
 "nbformat": 4,
 "nbformat_minor": 5
}
