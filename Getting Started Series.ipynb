{
 "cells": [
  {
   "cell_type": "code",
   "execution_count": 1,
   "id": "b66ec6ce",
   "metadata": {},
   "outputs": [],
   "source": [
    "import numpy as np"
   ]
  },
  {
   "cell_type": "code",
   "execution_count": 2,
   "id": "f8ba362f",
   "metadata": {},
   "outputs": [
    {
     "name": "stdout",
     "output_type": "stream",
     "text": [
      "Requirement already satisfied: pandas in c:\\users\\kiit\\appdata\\local\\programs\\python\\python38\\lib\\site-packages (1.3.1)\n",
      "Requirement already satisfied: python-dateutil>=2.7.3 in c:\\users\\kiit\\appdata\\local\\programs\\python\\python38\\lib\\site-packages (from pandas) (2.8.2)\n",
      "Requirement already satisfied: pytz>=2017.3 in c:\\users\\kiit\\appdata\\local\\programs\\python\\python38\\lib\\site-packages (from pandas) (2021.1)\n",
      "Requirement already satisfied: numpy>=1.17.3 in c:\\users\\kiit\\appdata\\local\\programs\\python\\python38\\lib\\site-packages (from pandas) (1.21.1)\n",
      "Requirement already satisfied: six>=1.5 in c:\\users\\kiit\\appdata\\local\\programs\\python\\python38\\lib\\site-packages (from python-dateutil>=2.7.3->pandas) (1.16.0)\n"
     ]
    },
    {
     "name": "stderr",
     "output_type": "stream",
     "text": [
      "WARNING: You are using pip version 19.2.3, however version 21.2.1 is available.\n",
      "You should consider upgrading via the 'python -m pip install --upgrade pip' command.\n"
     ]
    }
   ],
   "source": [
    "!pip install pandas"
   ]
  },
  {
   "cell_type": "code",
   "execution_count": 3,
   "id": "501917dd",
   "metadata": {},
   "outputs": [],
   "source": [
    "# what is pandas? (nb)\n",
    "# what is series? (nb)\n",
    "import pandas as pd\n",
    "from pandas import Series"
   ]
  },
  {
   "cell_type": "code",
   "execution_count": 4,
   "id": "bc937c10",
   "metadata": {},
   "outputs": [
    {
     "name": "stdout",
     "output_type": "stream",
     "text": [
      "0     5\n",
      "1    10\n",
      "2    15\n",
      "3    20\n",
      "dtype: int64\n"
     ]
    }
   ],
   "source": [
    "# create a simple series variable  \n",
    "s1 = Series([5,10,15,20])\n",
    "print(s1)"
   ]
  },
  {
   "cell_type": "code",
   "execution_count": 5,
   "id": "644bbf8a",
   "metadata": {},
   "outputs": [
    {
     "name": "stdout",
     "output_type": "stream",
     "text": [
      "[ 5 10 15 20]\n"
     ]
    }
   ],
   "source": [
    "print(s1.values) #prints only the values"
   ]
  },
  {
   "cell_type": "code",
   "execution_count": 6,
   "id": "e68e9015",
   "metadata": {},
   "outputs": [
    {
     "name": "stdout",
     "output_type": "stream",
     "text": [
      "RangeIndex(start=0, stop=4, step=1)\n"
     ]
    }
   ],
   "source": [
    "print(s1.index) #gives the range of indexes"
   ]
  },
  {
   "cell_type": "code",
   "execution_count": 8,
   "id": "cb02fc32",
   "metadata": {},
   "outputs": [
    {
     "name": "stdout",
     "output_type": "stream",
     "text": [
      "[0 1 2 3]\n"
     ]
    }
   ],
   "source": [
    "print(s1.index.values) #gives only the values of indexes"
   ]
  },
  {
   "cell_type": "code",
   "execution_count": 9,
   "id": "c3c7bc38",
   "metadata": {},
   "outputs": [
    {
     "name": "stdout",
     "output_type": "stream",
     "text": [
      "[400 300 200 100]\n"
     ]
    }
   ],
   "source": [
    "#create series from numpy\n",
    "revenue_array = np.array([400, 300, 200, 100])\n",
    "print(revenue_array)"
   ]
  },
  {
   "cell_type": "code",
   "execution_count": 10,
   "id": "f81fc0b4",
   "metadata": {},
   "outputs": [
    {
     "name": "stdout",
     "output_type": "stream",
     "text": [
      "0    400\n",
      "1    300\n",
      "2    200\n",
      "3    100\n",
      "dtype: int32\n"
     ]
    }
   ],
   "source": [
    "revenue_series = Series(revenue_array)\n",
    "print(revenue_series)"
   ]
  },
  {
   "cell_type": "code",
   "execution_count": 12,
   "id": "ae0d85cf",
   "metadata": {},
   "outputs": [
    {
     "name": "stdout",
     "output_type": "stream",
     "text": [
      "uber     400\n",
      "ola      300\n",
      "lyft     200\n",
      "gojek    100\n",
      "dtype: int32\n"
     ]
    }
   ],
   "source": [
    "# create series wuith custom indexes\n",
    "revenue = Series(revenue_array, index=['uber', 'ola', 'lyft', 'gojek'])\n",
    "print(revenue)"
   ]
  },
  {
   "cell_type": "code",
   "execution_count": 13,
   "id": "c5a05716",
   "metadata": {},
   "outputs": [
    {
     "data": {
      "text/plain": [
       "300"
      ]
     },
     "execution_count": 13,
     "metadata": {},
     "output_type": "execute_result"
    }
   ],
   "source": [
    "revenue['ola']"
   ]
  },
  {
   "cell_type": "code",
   "execution_count": 14,
   "id": "5a3a2481",
   "metadata": {},
   "outputs": [
    {
     "data": {
      "text/plain": [
       "100"
      ]
     },
     "execution_count": 14,
     "metadata": {},
     "output_type": "execute_result"
    }
   ],
   "source": [
    "revenue['gojek']"
   ]
  },
  {
   "cell_type": "code",
   "execution_count": 15,
   "id": "b2df3e97",
   "metadata": {},
   "outputs": [
    {
     "name": "stdout",
     "output_type": "stream",
     "text": [
      "uber    400\n",
      "ola     300\n",
      "dtype: int32\n"
     ]
    }
   ],
   "source": [
    "# filter a series based on conditions\n",
    "print(revenue[revenue>250])"
   ]
  },
  {
   "cell_type": "code",
   "execution_count": 16,
   "id": "b54e6603",
   "metadata": {},
   "outputs": [
    {
     "name": "stdout",
     "output_type": "stream",
     "text": [
      "True\n"
     ]
    }
   ],
   "source": [
    "# check whether an element is in a series\n",
    "print('ola' in revenue)"
   ]
  },
  {
   "cell_type": "code",
   "execution_count": 17,
   "id": "2d802f11",
   "metadata": {},
   "outputs": [
    {
     "name": "stdout",
     "output_type": "stream",
     "text": [
      "False\n"
     ]
    }
   ],
   "source": [
    "print('grab' in revenue)"
   ]
  },
  {
   "cell_type": "code",
   "execution_count": 19,
   "id": "d7d076fc",
   "metadata": {},
   "outputs": [
    {
     "name": "stdout",
     "output_type": "stream",
     "text": [
      "{'uber': 400, 'ola': 300, 'lyft': 200, 'gojek': 100}\n"
     ]
    }
   ],
   "source": [
    "# to_dict() function\n",
    "revenue_dict = revenue.to_dict()\n",
    "print(revenue_dict)"
   ]
  },
  {
   "cell_type": "code",
   "execution_count": 20,
   "id": "dc968840",
   "metadata": {},
   "outputs": [
    {
     "name": "stdout",
     "output_type": "stream",
     "text": [
      "uber     400\n",
      "ola      300\n",
      "lyft     200\n",
      "gojek    100\n",
      "dtype: int32\n",
      "uber     800\n",
      "ola      600\n",
      "lyft     400\n",
      "gojek    200\n",
      "dtype: int32\n"
     ]
    }
   ],
   "source": [
    "# addition of 2 series\n",
    "print(revenue)\n",
    "print(revenue+revenue)"
   ]
  },
  {
   "cell_type": "code",
   "execution_count": 22,
   "id": "d36ea093",
   "metadata": {},
   "outputs": [
    {
     "name": "stdout",
     "output_type": "stream",
     "text": [
      "Comapany Name\n",
      "uber     400\n",
      "ola      300\n",
      "lyft     200\n",
      "gojek    100\n",
      "Name: Comapany - Revenue, dtype: int32\n"
     ]
    }
   ],
   "source": [
    "# assign names to a series and its index\n",
    "revenue.name = 'Comapany - Revenue'\n",
    "revenue.index.name = \"Comapany Name\"\n",
    "print(revenue)"
   ]
  },
  {
   "cell_type": "code",
   "execution_count": null,
   "id": "68c927d5",
   "metadata": {},
   "outputs": [],
   "source": []
  }
 ],
 "metadata": {
  "kernelspec": {
   "display_name": "Python 3 (ipykernel)",
   "language": "python",
   "name": "python3"
  },
  "language_info": {
   "codemirror_mode": {
    "name": "ipython",
    "version": 3
   },
   "file_extension": ".py",
   "mimetype": "text/x-python",
   "name": "python",
   "nbconvert_exporter": "python",
   "pygments_lexer": "ipython3",
   "version": "3.8.2"
  }
 },
 "nbformat": 4,
 "nbformat_minor": 5
}
